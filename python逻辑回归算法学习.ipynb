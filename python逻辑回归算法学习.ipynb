{
 "cells": [
  {
   "cell_type": "markdown",
   "metadata": {},
   "source": [
    "## 这个demo仅仅为实现最为简单的逻辑回归"
   ]
  },
  {
   "cell_type": "code",
   "execution_count": 40,
   "metadata": {},
   "outputs": [
    {
     "data": {
      "text/html": [
       "<div>\n",
       "<style scoped>\n",
       "    .dataframe tbody tr th:only-of-type {\n",
       "        vertical-align: middle;\n",
       "    }\n",
       "\n",
       "    .dataframe tbody tr th {\n",
       "        vertical-align: top;\n",
       "    }\n",
       "\n",
       "    .dataframe thead th {\n",
       "        text-align: right;\n",
       "    }\n",
       "</style>\n",
       "<table border=\"1\" class=\"dataframe\">\n",
       "  <thead>\n",
       "    <tr style=\"text-align: right;\">\n",
       "      <th></th>\n",
       "      <th>Exam 1</th>\n",
       "      <th>Exam 2</th>\n",
       "      <th>Admitted</th>\n",
       "    </tr>\n",
       "  </thead>\n",
       "  <tbody>\n",
       "    <tr>\n",
       "      <th>0</th>\n",
       "      <td>34.623660</td>\n",
       "      <td>78.024693</td>\n",
       "      <td>0</td>\n",
       "    </tr>\n",
       "    <tr>\n",
       "      <th>1</th>\n",
       "      <td>30.286711</td>\n",
       "      <td>43.894998</td>\n",
       "      <td>0</td>\n",
       "    </tr>\n",
       "    <tr>\n",
       "      <th>2</th>\n",
       "      <td>35.847409</td>\n",
       "      <td>72.902198</td>\n",
       "      <td>0</td>\n",
       "    </tr>\n",
       "    <tr>\n",
       "      <th>3</th>\n",
       "      <td>60.182599</td>\n",
       "      <td>86.308552</td>\n",
       "      <td>1</td>\n",
       "    </tr>\n",
       "    <tr>\n",
       "      <th>4</th>\n",
       "      <td>79.032736</td>\n",
       "      <td>75.344376</td>\n",
       "      <td>1</td>\n",
       "    </tr>\n",
       "  </tbody>\n",
       "</table>\n",
       "</div>"
      ],
      "text/plain": [
       "      Exam 1     Exam 2  Admitted\n",
       "0  34.623660  78.024693         0\n",
       "1  30.286711  43.894998         0\n",
       "2  35.847409  72.902198         0\n",
       "3  60.182599  86.308552         1\n",
       "4  79.032736  75.344376         1"
      ]
     },
     "execution_count": 40,
     "metadata": {},
     "output_type": "execute_result"
    }
   ],
   "source": [
    "import numpy as np\n",
    "import pandas as pd\n",
    "import matplotlib.pyplot as plt\n",
    "%matplotlib inline\n",
    "import os\n",
    "\n",
    "pdData = pd.read_csv('LogiReg_data.txt', header=None, names=['Exam 1', 'Exam 2', 'Admitted'])\n",
    "pdData.head()"
   ]
  },
  {
   "cell_type": "code",
   "execution_count": 41,
   "metadata": {},
   "outputs": [
    {
     "data": {
      "text/plain": [
       "(100, 3)"
      ]
     },
     "execution_count": 41,
     "metadata": {},
     "output_type": "execute_result"
    }
   ],
   "source": [
    "pdData.shape"
   ]
  },
  {
   "cell_type": "code",
   "execution_count": 42,
   "metadata": {},
   "outputs": [
    {
     "data": {
      "text/plain": [
       "Text(0, 0.5, 'Exam 2 Score')"
      ]
     },
     "execution_count": 42,
     "metadata": {},
     "output_type": "execute_result"
    },
    {
     "data": {
      "image/png": "[encoded data removed]",
      "text/plain": [
       "<Figure size 720x360 with 1 Axes>"
      ]
     },
     "metadata": {
      "needs_background": "light"
     },
     "output_type": "display_data"
    }
   ],
   "source": [
    "# 被录取的学生\n",
    "positive = pdData[pdData['Admitted'] == 1] \n",
    "# 没有被录取的学生\n",
    "negative = pdData[pdData['Admitted'] == 0]\n",
    "\n",
    "fig, ax = plt.subplots(figsize=(10,5))\n",
    "ax.scatter(positive['Exam 1'], positive['Exam 2'], s=30, c='b', marker='o', label='Admitted')\n",
    "ax.scatter(negative['Exam 1'], negative['Exam 2'], s=30, c='r', marker='x', label='Not Admitted')\n",
    "ax.legend()\n",
    "ax.set_xlabel('Exam 1 Score')\n",
    "ax.set_ylabel('Exam 2 Score')"
   ]
  },
  {
   "cell_type": "markdown",
   "metadata": {},
   "source": [
    "sigmoid : 映射到概率的函数\n",
    "$$\n",
    "g(z) = \\frac{1}{1+e^{-z}}   \n",
    "$$"
   ]
  },
  {
   "cell_type": "code",
   "execution_count": 116,
   "metadata": {},
   "outputs": [],
   "source": [
    "def sigmoid(z):\n",
    "    #传递进来的是个矩阵，类似的计算数据如下\n",
    "    #输入：v1 = np.array([[1,2,3],[4,5,6]])\n",
    "    #输出：[[0.73105858 0.88079708 0.95257413]\n",
    "    #       [0.98201379 0.99330715 0.99752738]]\n",
    "    return 1 / (1 + np.exp(-z))"
   ]
  },
  {
   "cell_type": "code",
   "execution_count": 117,
   "metadata": {},
   "outputs": [
    {
     "data": {
      "text/plain": [
       "[<matplotlib.lines.Line2D at 0x20ac5fe19b0>]"
      ]
     },
     "execution_count": 117,
     "metadata": {},
     "output_type": "execute_result"
    },
    {
     "data": {
      "image/png": "[encoded data removed]",
      "text/plain": [
       "<Figure size 864x288 with 1 Axes>"
      ]
     },
     "metadata": {
      "needs_background": "light"
     },
     "output_type": "display_data"
    }
   ],
   "source": [
    "# 创建出来一系列的点\n",
    "nums = np.arange(-10, 10, step=1) \n",
    "fig, ax = plt.subplots(figsize=(12,4))\n",
    "# 测试sigmoid函数的图像输出\n",
    "ax.plot(nums, sigmoid(nums), 'r')"
   ]
  },
  {
   "cell_type": "markdown",
   "metadata": {},
   "source": [
    "## -----------------------------------------------------------------------------------------------------------------------------\n",
    "下边这个式子 \n",
    " $$h_{\\theta }\\left ( x \\right )=g\\left ( \\theta ^{T}x \\right )=\\frac{1}{1+e^{-\\theta ^{T}x}}$$\n",
    "$$\\theta _{0}+\\theta _{1}x_{1}+\\theta _{2}x_{2}+\\cdots +\\theta _{n}x_{n}=\\sum_{i=1}^{m}\\theta _{i}x_{i}=\\theta ^{T}x$$"
   ]
  },
  {
   "cell_type": "code",
   "execution_count": 110,
   "metadata": {},
   "outputs": [],
   "source": [
    "def model(X, theta):\n",
    "    # 相当于将上边标记中的第二个式子带入第一个式子   算出h_𝜃(x)\n",
    "    # np.dot(X, theta.T) X是100行3列的矩阵，theta.T是3行1列的矩阵，他俩的点乘的结果是100行1列的矩阵\n",
    "    # 经过sigmoid计算函数以后，返回的数据还是100行1列的矩阵\n",
    "    return sigmoid(np.dot(X, theta.T))"
   ]
  },
  {
   "cell_type": "code",
   "execution_count": 47,
   "metadata": {},
   "outputs": [
    {
     "name": "stderr",
     "output_type": "stream",
     "text": [
      "C:\\Users\\Administrator\\Anaconda3\\lib\\site-packages\\ipykernel_launcher.py:3: FutureWarning: Method .as_matrix will be removed in a future version. Use .values instead.\n",
      "  This is separate from the ipykernel package so we can avoid doing imports until\n"
     ]
    }
   ],
   "source": [
    "# 原数据插入一行x_0=1\n",
    "pdData.insert(0, 'Ones', 1)\n",
    "orig_data = pdData.as_matrix() # convert the Pandas representation of the data to an array useful for further computations\n",
    "cols = orig_data.shape[1]"
   ]
  },
  {
   "cell_type": "code",
   "execution_count": 48,
   "metadata": {},
   "outputs": [
    {
     "data": {
      "text/plain": [
       "((100, 3), (100, 1), (1, 3))"
      ]
     },
     "execution_count": 48,
     "metadata": {},
     "output_type": "execute_result"
    }
   ],
   "source": [
    "# X值\n",
    "X = orig_data[:,0:cols-1]\n",
    "# y值\n",
    "y = orig_data[:,cols-1:cols]\n",
    "theta = np.zeros([1, 3])\n",
    "X.shape, y.shape, theta.shape"
   ]
  },
  {
   "cell_type": "markdown",
   "metadata": {},
   "source": [
    "## --------------------------------------------------------------------------------------------------------------------------------\n",
    "最大似然估计取对数\n",
    "$$\n",
    "l\\left ( \\theta  \\right )=logL\\left ( \\theta  \\right )=\\sum_{i=1}^{m}\\left ( y_{i}log\\left ( h_{\\theta }\\left ( x_{i} \\right ) \\right ) +\\left ( 1-y_{i} \\right )log\\left ( 1-h_{\\theta }\\left ( x_{i} \\right ) \\right ) \\right )\n",
    "$$\n",
    "到这里就是求出使得$l\\left ( \\theta  \\right )$最大时候的$\\theta$。同样可以添加系数，得到这个式子：$J\\left ( \\theta  \\right )=-\\frac{1}{m}l\\left ( \\theta  \\right )$利用梯度下降求出$\\theta$的值。\n",
    "$J\\left ( \\theta  \\right )$可以看做损失值，当然是越小越好"
   ]
  },
  {
   "cell_type": "code",
   "execution_count": 49,
   "metadata": {},
   "outputs": [],
   "source": [
    "def cost(X, y, theta):\n",
    "    #翻译上边标记中的式子，算出J_𝜃的值\n",
    "    # y.shape #(100, 1)     \n",
    "    # np.log(model(X, theta)).shape #(100, 1)\n",
    "    # left (100, 1)\n",
    "    left = np.multiply(y, np.log(model(X, theta)))\n",
    "    right = np.multiply(1 - y, np.log(1 - model(X, theta)))\n",
    "    return np.sum(left + right) / (-len(X))"
   ]
  },
  {
   "cell_type": "code",
   "execution_count": 128,
   "metadata": {
    "scrolled": false
   },
   "outputs": [
    {
     "data": {
      "text/plain": [
       "0.6931471805599453"
      ]
     },
     "execution_count": 128,
     "metadata": {},
     "output_type": "execute_result"
    }
   ],
   "source": [
    "cost(X, y, theta)\n",
    "# np.log(model(X, theta)).shape #(100, 1)\n",
    "# y.shape #(100, 1)\n",
    "# left = np.multiply(y, np.log(model(X, theta)))#(100, 1)"
   ]
  },
  {
   "cell_type": "markdown",
   "metadata": {},
   "source": [
    "## -------------------------------------------------------------------------------------------------------------------------------\n",
    "梯度公式：$\\frac{\\partial J\\left ( \\theta  \\right )}{\\partial\\theta _{j}}=\\frac{1}{m}\\sum_{i=1}^{m}\\left ( h_{\\theta }\\left ( x_{i} \\right ) -y_{i}\\right )x_{i}^{j}$"
   ]
  },
  {
   "cell_type": "code",
   "execution_count": 157,
   "metadata": {},
   "outputs": [],
   "source": [
    "# 模拟梯度计算公式\n",
    "def gradient(X, y, theta):\n",
    "    #初始化一个默认梯度   \n",
    "    grad = np.zeros(theta.shape)\n",
    "    #(model(X, theta)- y) 是二维的 (100,1)\n",
    "    #(model(X, theta)- y).ravel() 是一维的 (100,)\n",
    "    # for循环中的 term 是一维的 (100,)\n",
    "    error = (model(X, theta)- y).ravel()\n",
    "    for j in range(len(theta.ravel())): #for each parmeter\n",
    "        term = np.multiply(error, X[:,j])\n",
    "        grad[0, j] = np.sum(term) / len(X)\n",
    "    return grad"
   ]
  },
  {
   "cell_type": "markdown",
   "metadata": {},
   "source": [
    "## -------------------------------------------------------------------------------------------------------------------------------\n",
    "进行梯度下降\n",
    "$$\\theta_{j} = \\theta_{j} - \\alpha \\frac{\\partial J\\left ( \\theta  \\right )}{\\partial \\theta _{j}}$$\n",
    "$$\\theta_{j} = \\theta_{j} - \\alpha \\frac{1}{m}\\sum_{i=1}^{m}\\left ( h_{\\theta \\left ( x_{i} \\right )}-y_{i} \\right )x_{i}^{j}$$"
   ]
  },
  {
   "cell_type": "code",
   "execution_count": 158,
   "metadata": {},
   "outputs": [],
   "source": [
    "import time\n",
    "\n",
    "def descent(data, theta, batchSize, stopType, thresh, alpha):\n",
    "    #梯度下降求解\n",
    "    \n",
    "    init_time = time.time()\n",
    "    i = 0 # 迭代次数\n",
    "    k = 0 # batch\n",
    "    X, y = shuffleData(data)\n",
    "    grad = np.zeros(theta.shape) # 计算的梯度\n",
    "    costs = [cost(X, y, theta)] # 损失值\n",
    "\n",
    "    \n",
    "    while True:\n",
    "        grad = gradient(X[k:k+batchSize], y[k:k+batchSize], theta)\n",
    "        k += batchSize #取batch数量个数据\n",
    "        if k >= n: \n",
    "            k = 0 \n",
    "            X, y = shuffleData(data) #重新洗牌\n",
    "        theta = theta - alpha*grad # 参数更新\n",
    "        costs.append(cost(X, y, theta)) # 计算新的损失\n",
    "        i += 1 \n",
    "\n",
    "        if stopType == STOP_ITER:       value = i\n",
    "        elif stopType == STOP_COST:     value = costs\n",
    "        elif stopType == STOP_GRAD:     value = grad\n",
    "        if stopCriterion(stopType, value, thresh): break\n",
    "    \n",
    "    return theta, i-1, costs, grad, time.time() - init_time"
   ]
  },
  {
   "cell_type": "markdown",
   "metadata": {},
   "source": [
    "## ----------------------------------------------------------------------------------------------------------------------------\n",
    "   接下来的就是不同的梯度下降效果比较，暂时不做过多研究"
   ]
  },
  {
   "cell_type": "code",
   "execution_count": 52,
   "metadata": {},
   "outputs": [],
   "source": [
    "STOP_ITER = 0\n",
    "STOP_COST = 1\n",
    "STOP_GRAD = 2\n",
    "\n",
    "def stopCriterion(type, value, threshold):\n",
    "    #设定三种不同的停止策略\n",
    "    if type == STOP_ITER:        return value > threshold\n",
    "    elif type == STOP_COST:      return abs(value[-1]-value[-2]) < threshold\n",
    "    elif type == STOP_GRAD:      return np.linalg.norm(value) < threshold"
   ]
  },
  {
   "cell_type": "code",
   "execution_count": 53,
   "metadata": {},
   "outputs": [],
   "source": [
    "import numpy.random\n",
    "#洗牌\n",
    "def shuffleData(data):\n",
    "    np.random.shuffle(data)\n",
    "    cols = data.shape[1]\n",
    "    X = data[:, 0:cols-1]\n",
    "    y = data[:, cols-1:]\n",
    "    return X, y"
   ]
  },
  {
   "cell_type": "code",
   "execution_count": 55,
   "metadata": {},
   "outputs": [],
   "source": [
    "def runExpe(data, theta, batchSize, stopType, thresh, alpha):\n",
    "    #import pdb; pdb.set_trace();\n",
    "    theta, iter, costs, grad, dur = descent(data, theta, batchSize, stopType, thresh, alpha)\n",
    "    name = \"Original\" if (data[:,1]>2).sum() > 1 else \"Scaled\"\n",
    "    name += \" data - learning rate: {} - \".format(alpha)\n",
    "    if batchSize==n: strDescType = \"Gradient\"\n",
    "    elif batchSize==1:  strDescType = \"Stochastic\"\n",
    "    else: strDescType = \"Mini-batch ({})\".format(batchSize)\n",
    "    name += strDescType + \" descent - Stop: \"\n",
    "    if stopType == STOP_ITER: strStop = \"{} iterations\".format(thresh)\n",
    "    elif stopType == STOP_COST: strStop = \"costs change < {}\".format(thresh)\n",
    "    else: strStop = \"gradient norm < {}\".format(thresh)\n",
    "    name += strStop\n",
    "    print (\"***{}\\nTheta: {} - Iter: {} - Last cost: {:03.2f} - Duration: {:03.2f}s\".format(\n",
    "        name, theta, iter, costs[-1], dur))\n",
    "    fig, ax = plt.subplots(figsize=(12,4))\n",
    "    ax.plot(np.arange(len(costs)), costs, 'r')\n",
    "    ax.set_xlabel('Iterations')\n",
    "    ax.set_ylabel('Cost')\n",
    "    ax.set_title(name.upper() + ' - Error vs. Iteration')\n",
    "    return theta"
   ]
  },
  {
   "cell_type": "code",
   "execution_count": 159,
   "metadata": {},
   "outputs": [
    {
     "name": "stdout",
     "output_type": "stream",
     "text": [
      "***Original data - learning rate: 1e-06 - Gradient descent - Stop: 10000 iterations\n",
      "Theta: [[-0.00062119  0.00816978  0.00267043]] - Iter: 10000 - Last cost: 0.63 - Duration: 1.94s\n"
     ]
    },
    {
     "data": {
      "text/plain": [
       "array([[-0.00062119,  0.00816978,  0.00267043]])"
      ]
     },
     "execution_count": 159,
     "metadata": {},
     "output_type": "execute_result"
    },
    {
     "data": {
      "image/png": "[encoded data removed]",
      "text/plain": [
       "<Figure size 864x288 with 1 Axes>"
      ]
     },
     "metadata": {
      "needs_background": "light"
     },
     "output_type": "display_data"
    }
   ],
   "source": [
    "n=100\n",
    "runExpe(orig_data, theta, n, STOP_ITER, thresh=10000, alpha=0.000001)"
   ]
  },
  {
   "cell_type": "code",
   "execution_count": null,
   "metadata": {},
   "outputs": [],
   "source": []
  }
 ],
 "metadata": {
  "kernelspec": {
   "display_name": "Python 3",
   "language": "python",
   "name": "python3"
  },
  "language_info": {
   "codemirror_mode": {
    "name": "ipython",
    "version": 3
   },
   "file_extension": ".py",
   "mimetype": "text/x-python",
   "name": "python",
   "nbconvert_exporter": "python",
   "pygments_lexer": "ipython3",
   "version": "3.7.1"
  }
 },
 "nbformat": 4,
 "nbformat_minor": 2
}
